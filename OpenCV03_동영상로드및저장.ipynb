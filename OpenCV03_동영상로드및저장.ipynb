{
 "cells": [
  {
   "cell_type": "markdown",
   "metadata": {},
   "source": [
    "<table border=1 width=100%>\n",
    "    <tr><td style=\"border: 1px solid black; width:600px; height:40px; text-align: center;\"><font size=4 color=blue><b>[3차시] 학습목표</b></font></td></tr>       \n",
    "    <tr><td style=\"border: 1px solid black; text-align: left;\"><font size=3>○ 카메라나 동영상으로부터 비디오 프레임 캡처하기<br>\n",
    "○ CCTV 만들기 - 동영상 녹화하기<br>\n",
    "○ 동영상에서 한 프레임을 이미지 파일로 저장하기<br>\n",
    "○ 저장한 이미지들을 동영상으로 만들기<br>\n",
    "○ 유튜브 영상 연동하기<br>\n",
    "        </font></td></tr>   \n",
    "</table>"
   ]
  },
  {
   "attachments": {},
   "cell_type": "markdown",
   "metadata": {},
   "source": [
    "<table border=1 width=100%>\n",
    "    <tr><td style=\"border: 1px solid black; width:600px; height:40px; text-align: center;\"><font size=4 color=blue><b>[3차시] 학습요약</b></font></td></tr>       \n",
    "    <tr><td style=\"border: 1px solid black; text-align: left;\"><font size=3>\n",
    "        \n",
    "○ <font color=red>cv2.VideoCapture()</font> : 비디오 캡처 (카메라, 동영상, 유튜브 등)<br>\n",
    "○ <font color=red>ret, frame = cap.read()</font> : 비디오로부터 프레임 이미지를 읽어서 반환<br>\n",
    "○ <font color=red>cv2.VideoWriter_fourcc ()</font> : 녹화 파일을 설정하는 함수<br>\n",
    "○ <font color=red>out.write()</font> : 영상을 저장<br>\n",
    "○ <font color=red>cv2.imwrite()</font> : 이미지를 저장<br>\n",
    "\n",
    "        \n",
    "○ 일반적인 동영상은 1초에 30장의 프레임이미지로 구성<br>\n",
    "○ pafy : 유투브 메타 데이터를 가져오는 라이브러리<br>\n",
    "○ yt-dlp : 유투브 영상을 다운로드하는 라이브러리 (음성 제외)<br>\n",
    "○ pytube : 유투브 영상을 다운로드하는 라이브러리 (음성 포함)\n",
    "         \n",
    "        \n",
    "</font></td></tr>   \n",
    "</table>"
   ]
  },
  {
   "attachments": {},
   "cell_type": "markdown",
   "metadata": {},
   "source": [
    "# 동영상을 읽고 출력하기"
   ]
  },
  {
   "attachments": {},
   "cell_type": "markdown",
   "metadata": {},
   "source": [
    "## 카메라나 동영상으로부터 비디오 프레임 캡처하기\n"
   ]
  },
  {
   "attachments": {},
   "cell_type": "markdown",
   "metadata": {
    "id": "gLauf9_UarFp"
   },
   "source": [
    "- <font color=red>cap = cv2.VideoCapture(0)</font>\n",
    "  - 0번 카메라로부터 비디오 캡처\n",
    "  - 0 대신에 파일명을 입력하면 동영상으로부터 캡처 \n",
    "    - cv2.VideoCapture(“images/video.mp4”)\n",
    "  - IP가 부여된 웹캠인 경우 IP와 카메라 번호를 입력 \n",
    "    - cap = cv2.VideoCapture(\"rtsp:127.0.0.1/0\")\n",
    "  \n",
    "  \n",
    "- <font color=red>w = cap.set(3, 480)</font> : 비디오의 가로 크기 가져오기\n",
    "- <font color=red>h = cap.set(4, 320)</font> : 비디오의 세로 크기 가져오기\n",
    "\n",
    "\n",
    "- <font color=red>ret, frame = cap.read()</font> \n",
    "  - 카메라로부터 비디오 파일을 읽고 프레임(frame) 이미지와 읽기성공여부(ret)를 반환 (True/False)\n",
    "\n",
    "\n",
    "- <font color=red>key = cv2.waitKey(30)</font>\n",
    "  - 0.03초동안 키 입력을 대기 (30프레임인 경우)\n",
    "  - key 값은 아스키 코드로 반환\n",
    "  \n",
    "  \n",
    "- <font color=red>cap.release()</font>\n",
    "  - 비디오 객체를 종료하고 메모리를 해제\n",
    "  \n",
    "\n",
    "- 아스키 코드\n",
    "<img src=\"../OpenCV_data/lecture_image/03_ascii.png\" width=70%>"
   ]
  },
  {
   "attachments": {},
   "cell_type": "markdown",
   "metadata": {},
   "source": [
    "### window를 이용하여 동영상 출력하기"
   ]
  },
  {
   "cell_type": "code",
   "execution_count": null,
   "metadata": {
    "colab": {
     "base_uri": "https://localhost:8080/",
     "height": 55
    },
    "executionInfo": {
     "elapsed": 585,
     "status": "ok",
     "timestamp": 1601964088660,
     "user": {
      "displayName": "강성관",
      "photoUrl": "",
      "userId": "00571094306841577419"
     },
     "user_tz": -540
    },
    "id": "Gdu9-Y9LarFn",
    "outputId": "dc8915da-3df0-4d1f-d9fe-4e472c1c0911"
   },
   "outputs": [],
   "source": [
    "import cv2\n",
    "\n",
    "\n",
    "\n",
    "try:\n",
    "    # 경로로부터 비디오 캡쳐\n",
    "    cap = cv2.VideoCapture(\"../OpenCV_data/image/video.mp4\")\n",
    "\n",
    "    # 캡처한 비디오로부터 프레임이미지 (영상을 구성하는 이미지)를 읽는다\n",
    "    while True :\n",
    "        # ret : 읽기 성공여부, frame : 읽은 프레임 이미지\n",
    "        ret, frame = cap.read()\n",
    "        \n",
    "        if not ret :  # 이미지를 읽지 못했다면\n",
    "            cap.release()  # 비디오 객체 메모리에서 해제\n",
    "            cv2.destroyAllWindows()  # 창 닫기 \n",
    "            break\n",
    "        \n",
    "        cv2.imshow(\"video\", frame)\n",
    "        \n",
    "        key = cv2.waitKey(33)  # 33은 1000/33 해서 1초에 30프레임 나오게 하는 것 숫자 줄이면 1초에 더많은 프레임 돌림\n",
    "        \n",
    "        # 지금 잘 작동하지 않음 ㅠ\n",
    "        if key == 49 :   # 숫자 1을 누르면\n",
    "            cap.release()   # 비디오 객체 해제\n",
    "            cv2.destroyAllWindows()  # 창 닫기\n",
    "            break\n",
    "except:\n",
    "    print(\"비디오 캡쳐 실패\")\n",
    "    "
   ]
  },
  {
   "attachments": {},
   "cell_type": "markdown",
   "metadata": {},
   "source": [
    "<table border=1 width=100%>\n",
    "    <tr><td style=\"border: 1px solid black; width:600px; text-align: left;\"><font size=4 color=red><b>실습문제</b></font><br><br>\n",
    "        <font size=4>○ 동영상 파일을 읽고 출력해보자.</font></td></tr>       \n",
    "    <tr><td style=\"border: 1px solid black; text-align: left;\">\n",
    "        <img src=\"../OpenCV_data/lecture_image/03_movie.png\" width=50%></td></tr>   \n",
    "</table>"
   ]
  },
  {
   "attachments": {},
   "cell_type": "markdown",
   "metadata": {},
   "source": [
    "### widget을 이용하여 동영상 출력하기"
   ]
  },
  {
   "cell_type": "code",
   "execution_count": 1,
   "metadata": {},
   "outputs": [
    {
     "data": {
      "application/vnd.jupyter.widget-view+json": {
       "model_id": "7c52645cbd574c8294b8cc3094d8e655",
       "version_major": 2,
       "version_minor": 0
      },
      "text/plain": [
       "Image(value=b'', format='.jpeg', height='480', width='480')"
      ]
     },
     "metadata": {},
     "output_type": "display_data"
    },
    {
     "ename": "KeyboardInterrupt",
     "evalue": "",
     "output_type": "error",
     "traceback": [
      "\u001b[0;31m---------------------------------------------------------------------------\u001b[0m",
      "\u001b[0;31mKeyboardInterrupt\u001b[0m                         Traceback (most recent call last)",
      "\u001b[0;32m/var/folders/d0/hsqd9x956qgdv8tn9cts8vmc0000gn/T/ipykernel_86694/3460788317.py\u001b[0m in \u001b[0;36m<module>\u001b[0;34m\u001b[0m\n\u001b[1;32m     15\u001b[0m         \u001b[0;32mbreak\u001b[0m\u001b[0;34m\u001b[0m\u001b[0;34m\u001b[0m\u001b[0m\n\u001b[1;32m     16\u001b[0m \u001b[0;34m\u001b[0m\u001b[0m\n\u001b[0;32m---> 17\u001b[0;31m     \u001b[0mcv2\u001b[0m\u001b[0;34m.\u001b[0m\u001b[0mwaitKey\u001b[0m\u001b[0;34m(\u001b[0m\u001b[0;36m33\u001b[0m\u001b[0;34m)\u001b[0m\u001b[0;34m\u001b[0m\u001b[0;34m\u001b[0m\u001b[0m\n\u001b[0m\u001b[1;32m     18\u001b[0m \u001b[0;34m\u001b[0m\u001b[0m\n\u001b[1;32m     19\u001b[0m     \u001b[0m_\u001b[0m\u001b[0;34m,\u001b[0m \u001b[0men_img\u001b[0m \u001b[0;34m=\u001b[0m \u001b[0mcv2\u001b[0m\u001b[0;34m.\u001b[0m\u001b[0mimencode\u001b[0m\u001b[0;34m(\u001b[0m\u001b[0;34m\".jpeg\"\u001b[0m\u001b[0;34m,\u001b[0m \u001b[0mframe\u001b[0m\u001b[0;34m)\u001b[0m\u001b[0;34m\u001b[0m\u001b[0;34m\u001b[0m\u001b[0m\n",
      "\u001b[0;31mKeyboardInterrupt\u001b[0m: "
     ]
    }
   ],
   "source": [
    "import ipywidgets as widget\n",
    "from IPython.display import display\n",
    "import cv2\n",
    "\n",
    "img_widget = widget.Image(format=\".jpeg\", width=480, height=480)\n",
    "display(img_widget)\n",
    "\n",
    "cap = cv2.VideoCapture(\"../OpenCV_data/image/video.mp4\")\n",
    "\n",
    "while True :\n",
    "    ret, frame = cap.read()\n",
    "    \n",
    "    if not ret :\n",
    "        cap.release()  # 비디오 격리해제 안하면 다시 재생 안된다.\n",
    "        break\n",
    "        \n",
    "    cv2.waitKey(33)    \n",
    "    \n",
    "    _, en_img = cv2.imencode(\".jpeg\", frame)\n",
    "    img_widget.value = en_img.tobytes()  # 바이트 단위로 바꿔서 전송해주기 위한 코드"
   ]
  },
  {
   "attachments": {},
   "cell_type": "markdown",
   "metadata": {},
   "source": [
    "## CCTV 만들기 - 동영상 녹화하기"
   ]
  },
  {
   "attachments": {},
   "cell_type": "markdown",
   "metadata": {
    "id": "c_T9xGKy7YGH"
   },
   "source": [
    "- <font color=red>codec = cv2.VideoWriter_fourcc('D', 'I', 'V', 'X')</font> : 비디오 타입을 DIVX로 설정\n",
    "\n",
    "<img src=\"../OpenCV_data/lecture_image/03_codec.png\" width=70%>\n",
    "\n",
    "\n",
    "- <font color=red>out = cv2.VideoWriter('cctv01.avi', codec, fps, (w, h))</font>  \n",
    "  - cctv01.avi 파일에 설정한 코덱, 프레임, 크기로 저장하도록 설정\n",
    "  \n",
    "  \n",
    "- <font color=red>out.write(frame)</font>  : 이미지 프레임을 파일에 쓰기\n",
    "\n",
    "\n",
    "- <font color=red>out.release() </font> : 파일 객체 해제하기"
   ]
  },
  {
   "cell_type": "code",
   "execution_count": null,
   "metadata": {},
   "outputs": [],
   "source": [
    "# CCTV 윈도우\n",
    "import cv2\n",
    "\n",
    "# 0번은 카메라 번호\n",
    "cap = cv2.VideoCapture(0)\n",
    "\n",
    "# 녹화설정\n",
    "fps=30.0 #초당 프레임 수 frame per second\n",
    "w = int(cap.get(3)) # 3은 가로크기를 가져온다\n",
    "h = int(cap.get(4)) # 4는 세로크기를 가져온다\n",
    "\n",
    "# * : 가변 매개변수 설정 (여러개 매개변수 쓸 때 아스타리스크)\n",
    "codec = cv2.VideoWriter_fourcc(*'DIVX') # avi타입으로 저장\n",
    "out = cv2.VideoWriter(\"./image/cctv01.avi\", codec, fps, (w,h))\n",
    "\n",
    "record = False #처음에는 녹화하지 않음\n",
    "\n",
    "while True: \n",
    "    ret, frame = cap.read()    \n",
    "    \n",
    "    if not ret:\n",
    "        out.release()\n",
    "        cap.release() #비디오 격리해제 안하면 다시 재생 안됨\n",
    "        cv2.destroyAllWindows()\n",
    "        break\n",
    "        \n",
    "    key=cv2.waitKey(33)\n",
    "    cv2.imshow(\"web_cam\", frame)\n",
    "    \n",
    "    #녹화하기\n",
    "    if record:\n",
    "        out.write(frame)\n",
    "            \n",
    "    if key == 49: #숫자 1을 누르면 (조건을 다양하게 줄 수 있다)\n",
    "        record = True\n",
    "        print('녹화시작')\n",
    "        \n",
    "    if key == 50: #숫자 2를 누르면\n",
    "        record = False\n",
    "        print('녹화종료')\n",
    "        \n",
    "    if key ==51 : #숫자3을 누르면\n",
    "        print('종료')\n",
    "        cap.release() #비디오 객체 메모리에서 해제\n",
    "        cv2.destroyAllWindows() #창닫기\n",
    "        break"
   ]
  },
  {
   "cell_type": "code",
   "execution_count": null,
   "metadata": {
    "id": "VuXcAroNarFq",
    "outputId": "21191986-ee04-4143-f089-45f3d8196e21"
   },
   "outputs": [
    {
     "data": {
      "application/vnd.jupyter.widget-view+json": {
       "model_id": "8f33df52a0a943cdb9aa9a9db2726c66",
       "version_major": 2,
       "version_minor": 0
      },
      "text/plain": [
       "Image(value=b'', format='.jpeg', height='480', width='480')"
      ]
     },
     "metadata": {},
     "output_type": "display_data"
    }
   ],
   "source": [
    "# CCTV 위젯\n",
    "import ipywidgets as widget\n",
    "from IPython.display import display\n",
    "import cv2\n",
    "\n",
    "\n",
    "# 0번은 카메라 번호\n",
    "# 카메라로부터 영상을 획득\n",
    "cap = cv2.VideoCapture(0)\n",
    "\n",
    "img_widget = widget.Image(format=\".jpeg\", width=480, height=480)\n",
    "display(img_widget)\n",
    "\n",
    "while True: \n",
    "    ret, frame = cap.read()    \n",
    "    if not ret:\n",
    "        cap.release()\n",
    "        out.release()\n",
    "        break\n",
    "    \n",
    "    try:\n",
    "        cv2.waitKey(33)\n",
    "        _, en_img = cv2.imencode(\".jpeg\", frame)\n",
    "    except KeyboardInterrupt :\n",
    "        cap.release()\n",
    "        break\n",
    "    \n",
    "    img_widget.value = en_img.tobytes()"
   ]
  },
  {
   "attachments": {},
   "cell_type": "markdown",
   "metadata": {},
   "source": [
    "## 동영상에서 한 프레임을 이미지 파일로 저장하기"
   ]
  },
  {
   "attachments": {},
   "cell_type": "markdown",
   "metadata": {
    "id": "ARYE0iZR7YGL"
   },
   "source": [
    "- <font color=red>cv2.imwrite(“파일명.확장자”, 프레임이미지, 옵션)</font>\n",
    "  - params=[cv2.IMWRITE_PNG_COMPRESSION, 0])  \n",
    "    : 압축 하지 않는 PNG, 세 번째 파라미터는 압축률로 0~9까지 설정 가능 (0은 압축 없음)"
   ]
  },
  {
   "cell_type": "code",
   "execution_count": 3,
   "metadata": {
    "id": "mm27wOurarFs",
    "outputId": "23d68150-df97-4770-e818-42974043234c"
   },
   "outputs": [
    {
     "name": "stdout",
     "output_type": "stream",
     "text": [
      "비디오 캡처 시작\n"
     ]
    }
   ],
   "source": [
    "# 카메라로부터 영상을 획득\n",
    "cap = cv2.VideoCapture(0)\n",
    "seq=0\n",
    "\n",
    "\n",
    "while True :\n",
    "    ret, frame = cap.read()\n",
    "    if not ret :\n",
    "        print(\"종료\")\n",
    "        cap.release()\n",
    "        cv2.destroyAllWindows()\n",
    "        break\n",
    "        \n",
    "    key = cv2.waitKey(33)\n",
    "    cv2.imshow(\"cctv\", frame)\n",
    "\n",
    "    #숫자 1을 누르면 프레임이미지를 파일(PNG)로 저장\n",
    "    if key == 49: \n",
    "        seq +=1\n",
    "        print(f'./image/img{seq}.png 파일을 저장하였습니다.')\n",
    "        #파일을 압축하지 않고 png파일로 저장하겠다.\n",
    "        cv2.imwrite(f'./image/img{seq}.png', frame,\n",
    "                   params=[cv2.IMWRITE_PNG_COMPRESSION, 0])\n",
    "        \n",
    "    if key ==51 : #숫자3을 누르면\n",
    "        print('종료')\n",
    "        cap.release() #비디오 객체 메모리에서 해제\n",
    "        cv2.destroyAllWindows() #창닫기\n",
    "        break"
   ]
  },
  {
   "attachments": {},
   "cell_type": "markdown",
   "metadata": {
    "id": "Q2YlE60vAEtW"
   },
   "source": [
    "#### 저장한 이미지들을 동영상으로 만들기"
   ]
  },
  {
   "cell_type": "code",
   "execution_count": 2,
   "metadata": {
    "id": "FUw1ewhLAEX_"
   },
   "outputs": [],
   "source": [
    "# 동영상 설정\n",
    "fps = 5\n",
    "w = 640\n",
    "h = 480\n",
    "codec = cv2.VideoWriter_fourcc(*'DIVX')\n",
    "out = cv2.VideoWriter('../OpenCV_data/image/img.avi', codec, fps, (w,h))\n",
    "\n",
    "# 이미지를 한장씩 읽어와서 동영상을 만들기\n",
    "for i in range(1,11):\n",
    "    img = cv2.imread(f'../OpenCV_data/image/img{i}.png', cv2.IMREAD_COLOR)\n",
    "    out.write(img)\n",
    "out.release()"
   ]
  },
  {
   "attachments": {},
   "cell_type": "markdown",
   "metadata": {},
   "source": [
    "## 유튜브 영상 연동하기"
   ]
  },
  {
   "cell_type": "markdown",
   "metadata": {},
   "source": [
    "### pafy로 유튜브 영상 연동하기"
   ]
  },
  {
   "attachments": {},
   "cell_type": "markdown",
   "metadata": {},
   "source": [
    "- pafy : youtube의 메타 데이터를 수집/검색하거나 다운로드 할 수 있는 Python 라이브러리\n",
    "- yt-dlp : 현재 업데이트가 되지 않는 youtube-dl을 업그레이드한 버전, 유튜브로부터 영상을 다운로드 (영상만 다운로드 – 음성 제외)\n",
    "- pytube : 영상 음성 모두 다운로드"
   ]
  },
  {
   "cell_type": "code",
   "execution_count": 2,
   "metadata": {},
   "outputs": [
    {
     "name": "stdout",
     "output_type": "stream",
     "text": [
      "Collecting pafy\n",
      "  Downloading pafy-0.5.5-py2.py3-none-any.whl (35 kB)\n",
      "Installing collected packages: pafy\n",
      "Successfully installed pafy-0.5.5\n",
      "Collecting youtube-dl\n",
      "  Downloading youtube_dl-2021.12.17-py2.py3-none-any.whl (1.9 MB)\n",
      "\u001b[2K     \u001b[90m━━━━━━━━━━━━━━━━━━━━━━━━━━━━━━━━━━━━━━━━\u001b[0m \u001b[32m1.9/1.9 MB\u001b[0m \u001b[31m20.5 MB/s\u001b[0m eta \u001b[36m0:00:00\u001b[0m00:01\u001b[0m00:01\u001b[0m\n",
      "\u001b[?25hInstalling collected packages: youtube-dl\n",
      "Successfully installed youtube-dl-2021.12.17\n",
      "Collecting yt-dlp\n",
      "  Downloading yt_dlp-2023.1.2-py2.py3-none-any.whl (2.8 MB)\n",
      "\u001b[2K     \u001b[90m━━━━━━━━━━━━━━━━━━━━━━━━━━━━━━━━━━━━━━━━\u001b[0m \u001b[32m2.8/2.8 MB\u001b[0m \u001b[31m30.0 MB/s\u001b[0m eta \u001b[36m0:00:00\u001b[0m00:01\u001b[0m00:01\u001b[0m\n",
      "\u001b[?25hCollecting websockets\n",
      "  Downloading websockets-10.4-cp37-cp37m-macosx_10_9_x86_64.whl (97 kB)\n",
      "\u001b[2K     \u001b[90m━━━━━━━━━━━━━━━━━━━━━━━━━━━━━━━━━━━━━━━━\u001b[0m \u001b[32m97.8/97.8 kB\u001b[0m \u001b[31m4.4 MB/s\u001b[0m eta \u001b[36m0:00:00\u001b[0m\n",
      "\u001b[?25hCollecting mutagen\n",
      "  Downloading mutagen-1.46.0-py3-none-any.whl (193 kB)\n",
      "\u001b[2K     \u001b[90m━━━━━━━━━━━━━━━━━━━━━━━━━━━━━━━━━━━━━━━\u001b[0m \u001b[32m193.6/193.6 kB\u001b[0m \u001b[31m9.5 MB/s\u001b[0m eta \u001b[36m0:00:00\u001b[0m\n",
      "\u001b[?25hCollecting pycryptodomex\n",
      "  Downloading pycryptodomex-3.16.0-cp35-abi3-macosx_10_9_x86_64.whl (1.6 MB)\n",
      "\u001b[2K     \u001b[90m━━━━━━━━━━━━━━━━━━━━━━━━━━━━━━━━━━━━━━━━\u001b[0m \u001b[32m1.6/1.6 MB\u001b[0m \u001b[31m32.4 MB/s\u001b[0m eta \u001b[36m0:00:00\u001b[0m00:01\u001b[0m\n",
      "\u001b[?25hRequirement already satisfied: certifi in /Users/choiyungyu/opt/anaconda3/envs/opencv/lib/python3.7/site-packages (from yt-dlp) (2022.12.7)\n",
      "Collecting brotli\n",
      "  Downloading Brotli-1.0.9-cp37-cp37m-macosx_10_9_x86_64.whl (421 kB)\n",
      "\u001b[2K     \u001b[90m━━━━━━━━━━━━━━━━━━━━━━━━━━━━━━━━━━━━━━\u001b[0m \u001b[32m421.0/421.0 kB\u001b[0m \u001b[31m16.7 MB/s\u001b[0m eta \u001b[36m0:00:00\u001b[0m\n",
      "\u001b[?25hInstalling collected packages: brotli, websockets, pycryptodomex, mutagen, yt-dlp\n",
      "Successfully installed brotli-1.0.9 mutagen-1.46.0 pycryptodomex-3.16.0 websockets-10.4 yt-dlp-2023.1.2\n"
     ]
    }
   ],
   "source": [
    "# Youtube의 메타 데이터를 수집/검색하거나 다운로드 할 수 있는 Python 라이브러리\n",
    "!pip install pafy\n",
    "# 유튜브로부터 영상만을 다운로드 \n",
    "!pip install youtube-dl\n",
    "# 유튜브로부터 영상만을 다운로드 (youtube-dl 라이브러리 업그레이드 버전)\n",
    "!pip install yt-dlp"
   ]
  },
  {
   "cell_type": "markdown",
   "metadata": {},
   "source": [
    "- <font color=red>video = pafy.new(\"유튜브 주소\")</font> : YouTube 주소로 영상 정보 가져오기\n",
    "\n",
    "- <font color=red>best = video.getbest(preftype=\"mp4\")</font> : YouTube 실제 주소 가져오기"
   ]
  },
  {
   "cell_type": "code",
   "execution_count": 2,
   "metadata": {},
   "outputs": [
    {
     "name": "stdout",
     "output_type": "stream",
     "text": [
      "제목 : 사이다처럼 시원청량한 박혜원의 역대급 고음 무대 모음집! | 야생화, 사랑안해, 휠릴리\n",
      "평점 : None\n",
      "조회수 : 1967422\n",
      "영상크기 : 640x360\n",
      "실제파일링크 : https://rr1---sn-ab02a0nfpgxapox-3fwl.googlevideo.com/videoplayback?expire=1673017856&ei=oOW3Y6_AH9qOvcAP9MGE6Ag&ip=125.183.175.200&id=o-AC7vuR6jXx_hW09nSJ1aAUPD4uYoUM3R0GfzPLraLn54&itag=18&source=youtube&requiressl=yes&mh=Fq&mm=31%2C29&mn=sn-ab02a0nfpgxapox-3fwl%2Csn-ab02a0nfpgxapox-bh2zs&ms=au%2Crdu&mv=m&mvi=1&pl=24&initcwndbps=2551250&vprv=1&mime=video%2Fmp4&ns=AhVa00qKa6EpZo2_nwg45kgK&gir=yes&clen=69107515&ratebypass=yes&dur=933.627&lmt=1606655494428931&mt=1672995967&fvip=3&fexp=24007246&c=WEB&txp=5431432&n=D2xsEN81AWbaH6IKA&sparams=expire%2Cei%2Cip%2Cid%2Citag%2Csource%2Crequiressl%2Cvprv%2Cmime%2Cns%2Cgir%2Cclen%2Cratebypass%2Cdur%2Clmt&sig=AOq0QJ8wRAIgGRbOn5icuO_sV5x8PeTCOfb9k8eZBEOEj4-E5jtgQ1MCIFobJM7VgCo1qd_yY5ULGuMyQIe91VjO-OYYOSQqw3tQ&lsparams=mh%2Cmm%2Cmn%2Cms%2Cmv%2Cmvi%2Cpl%2Cinitcwndbps&lsig=AG3C_xAwRAIgdy5b3mUGISq9LICaBDmcN6wwSLLIEjwEiYZuYnfPtdYCIG0XpXHNhKqeALw1pif-0GzIzEbQ6F3WxyvvoAXxvwO-\n"
     ]
    }
   ],
   "source": [
    "import pafy\n",
    "video = pafy.new('https://www.youtube.com/watch?v=W6bIM3bMWbk')\n",
    "\n",
    "#유튜브영상정보 출력\n",
    "print(f'제목 : {video.title}')\n",
    "print(f'평점 : {video.rating}')\n",
    "print(f'조회수 : {video.viewcount}')\n",
    "# print(f'좋아요 : {video.likes}')\n",
    "# print(f'싫어요 : {video.dislikes}')\n",
    "codec = video.getbest(preftype='mp4')\n",
    "print(f'영상크기 : {codec.resolution}')\n",
    "video.expiry\n",
    "\n",
    "print(f'실제파일링크 : {codec.url}')"
   ]
  },
  {
   "attachments": {},
   "cell_type": "markdown",
   "metadata": {},
   "source": [
    "- 코드 수행시에 KeyError: 'dislike_count'가 뜨는 경우\n",
    "  - pafy 설치폴더 (anaconda3설치폴더\\envs\\OpenCV\\Lib\\site-packages\\pafy)로 이동해서 backend_youtube_dl.py 파일을 열어서 53, 54라인을\n",
    "  - macOS : /Users/choiyungyu/opt/anaconda3/envs/opencv/lib/python3.7/site-packages\n",
    "    - self._likes = self._ydl_info['like_count']\n",
    "    - self._dislikes = self._ydl_info['dislike_count']\n",
    "  - 다음 코드로 변경    \n",
    "    - self._likes = self._ydl_info.get('like_count',0)\n",
    "    - self._dislikes = self._ydl_info.get('dislike_count',0)\n",
    "    \n",
    "  - 주피터노트북을 닫고 재실행  "
   ]
  },
  {
   "cell_type": "code",
   "execution_count": 3,
   "metadata": {},
   "outputs": [
    {
     "name": "stdout",
     "output_type": "stream",
     "text": [
      "종료\n"
     ]
    },
    {
     "ename": "",
     "evalue": "",
     "output_type": "error",
     "traceback": [
      "\u001b[1;31m현재 셀 또는 이전 셀에서 코드를 실행하는 동안 Kernel이 충돌했습니다. 셀의 코드를 검토하여 오류의 가능한 원인을 식별하세요. 자세한 내용을 보려면 <a href='https://aka.ms/vscodeJupyterKernelCrash'> 여기 </a> 를 클릭하세요. 자세한 내용은 Jupyter <a href='command:jupyter.viewOutput'>로그</a>를 참조하세요."
     ]
    }
   ],
   "source": [
    "import cv2\n",
    "\n",
    "cap = cv2.VideoCapture(codec.url)\n",
    "\n",
    "while True :\n",
    "    ret, frame = cap.read()\n",
    "    \n",
    "    if not ret :\n",
    "        print(\"종료\")\n",
    "        cap.release()\n",
    "        cv2.destroyAllWindows()\n",
    "        break\n",
    "        \n",
    "    key = cv2.waitKey(33)\n",
    "    cv2.imshow(\"cctv\", frame)\n",
    "    \n",
    "    if key == 49 :\n",
    "        print(\"종료\")\n",
    "        cap.release()\n",
    "        cv2.destroyAllWindows()\n",
    "        break"
   ]
  },
  {
   "attachments": {},
   "cell_type": "markdown",
   "metadata": {},
   "source": [
    "### yt-dlp로 유튜브 영상 다운로드하기 (음성제외)"
   ]
  },
  {
   "cell_type": "code",
   "execution_count": 3,
   "metadata": {
    "scrolled": true
   },
   "outputs": [
    {
     "name": "stdout",
     "output_type": "stream",
     "text": [
      "[youtube] XnPHJTEng_I: Downloading webpage\n",
      "[youtube] XnPHJTEng_I: Downloading android player API JSON\n",
      "[info] XnPHJTEng_I: Downloading 1 format(s): 248\n",
      "[download] youtube\\스마트인재개발원.webm has already been downloaded\n",
      "[download] 100% of 4.57MiB\n",
      "다운로드 완료\n"
     ]
    }
   ],
   "source": [
    "# 실습\n",
    "import os\n",
    "import yt_dlp  # 음성은 안됨\n",
    "\n",
    "# 다운받을 영상 리스트\n",
    "download_list = [\"https://www.youtube.com/watch?v=Uh2uQ7fTQuI\"]\n",
    "\n",
    "# 저장 폴더\n",
    "save_dir = './image/'\n",
    "\n",
    "#다운로드 옵션\n",
    "yt_opts = {\n",
    "    #다운받을 영상의 파일명과 확장자 명을 정하는 것\n",
    "    'outtmpl' : f\"./image/%(title)s.%(ext)s\",\n",
    "    #최상의 품질의 영상을 다운로드 하겠다는 것\n",
    "    \"format\" : \"bestvideo/best\"\n",
    "}\n",
    "\n",
    "#다운로드\n",
    "with yt_dlp.YoutubeDL(yt_opts) as yt:   #with 파일을 저장할 때 with을 쓰면 알아서 파일을 닫아주는 역할을 함\n",
    "    yt.download(download_list)\n",
    "print(\"종료\")"
   ]
  },
  {
   "attachments": {},
   "cell_type": "markdown",
   "metadata": {},
   "source": [
    "### pytube로 유튜브 영상 다운로드 (영상 음성 모두 지원)"
   ]
  },
  {
   "cell_type": "code",
   "execution_count": 3,
   "metadata": {},
   "outputs": [
    {
     "name": "stdout",
     "output_type": "stream",
     "text": [
      "Collecting git+https://github.com/nficano/pytube.git\n",
      "  Cloning https://github.com/nficano/pytube.git to c:\\users\\egeg\\appdata\\local\\temp\\pip-req-build-s8qujp5i\n",
      "  Resolved https://github.com/nficano/pytube.git to commit 2e307d8d615ef30aa837fe2275954146dab07ca6\n",
      "Building wheels for collected packages: pytube\n",
      "  Building wheel for pytube (setup.py): started\n",
      "  Building wheel for pytube (setup.py): finished with status 'done'\n",
      "  Created wheel for pytube: filename=pytube-12.1.0-py3-none-any.whl size=56945 sha256=3c860725f9f1e09beba9d0f95606c742d8d16faf9d1eaaf544543624c4046dd2\n",
      "  Stored in directory: C:\\Users\\EGEG\\AppData\\Local\\Temp\\pip-ephem-wheel-cache-l8uzm7ku\\wheels\\f1\\b5\\78\\12b4d0c5846b07ac841f094923d3b270c10c0a522dad8c2951\n",
      "Successfully built pytube\n",
      "Installing collected packages: pytube\n",
      "Successfully installed pytube-12.1.0\n"
     ]
    },
    {
     "name": "stderr",
     "output_type": "stream",
     "text": [
      "  Running command git clone -q https://github.com/nficano/pytube.git 'C:\\Users\\EGEG\\AppData\\Local\\Temp\\pip-req-build-s8qujp5i'\n"
     ]
    }
   ],
   "source": [
    "# 아나콘다 프롬프트 창에서 실행\n",
    "!pip install --upgrade \"git+https://github.com/nficano/pytube.git\""
   ]
  },
  {
   "cell_type": "code",
   "execution_count": 4,
   "metadata": {},
   "outputs": [
    {
     "name": "stdout",
     "output_type": "stream",
     "text": [
      "영상 제목 :  스마트인재개발원\n",
      "영상 길이 :  33\n",
      "영상 평점 :  None\n",
      "영상 썸네일 링크 :  https://i.ytimg.com/vi/XnPHJTEng_I/sddefault.jpg\n",
      "영상 조회수 :  8987\n",
      "영상 설명 :  광주광역시 4차산업 전문 국비교육기관\n",
      "smhrd.or.kr\n"
     ]
    },
    {
     "data": {
      "text/plain": [
       "'D:\\\\python_source\\\\opencv\\\\./youtube/스마트인재개발원.mp4'"
      ]
     },
     "execution_count": 4,
     "metadata": {},
     "output_type": "execute_result"
    }
   ],
   "source": [
    "import os\n",
    "import pytube\n",
    "from pytube.cli import on_progress\n",
    "\n",
    "url = 'https://www.youtube.com/watch?v=Uh2uQ7fTQuI'\n",
    "\n",
    "#유튜브로부터 영상을 가져온다.\n",
    "yt = pytube.YouTube(url)\n",
    "\n",
    "#영상정보출력\n",
    "print(f'제목 : {yt.title}')\n",
    "print(f'조회수 : {yt.views}')\n",
    "\n",
    "#다운받을 폴더\n",
    "save_dir = \"./image/\"\n",
    "\n",
    "#다운로드\n",
    "#progressive : 순차적으로 다운로드\n",
    "#file_extension : 파일 확장자\n",
    "#order_by(\"resolution\") : 해상도로 검색\n",
    "#desc() : 내림차순\n",
    "#first() : 첫번째 파일\n",
    "yt.streams.filter(progressive=True, file_extension=\"mp4\")\\\n",
    "                .order_by('resolution')\\\n",
    "                .desc().first().download(save_dir)"
   ]
  }
 ],
 "metadata": {
  "colab": {
   "name": "DL008_01_OpenCV.ipynb",
   "provenance": []
  },
  "hide_input": false,
  "kernelspec": {
   "display_name": "opencv",
   "language": "python",
   "name": "python3"
  },
  "language_info": {
   "codemirror_mode": {
    "name": "ipython",
    "version": 3
   },
   "file_extension": ".py",
   "mimetype": "text/x-python",
   "name": "python",
   "nbconvert_exporter": "python",
   "pygments_lexer": "ipython3",
   "version": "3.7.15 (default, Nov 24 2022, 12:02:37) \n[Clang 14.0.6 ]"
  },
  "toc": {
   "base_numbering": 1,
   "nav_menu": {},
   "number_sections": true,
   "sideBar": true,
   "skip_h1_title": false,
   "title_cell": "Table of Contents",
   "title_sidebar": "Contents",
   "toc_cell": false,
   "toc_position": {
    "height": "calc(100% - 180px)",
    "left": "10px",
    "top": "150px",
    "width": "165px"
   },
   "toc_section_display": true,
   "toc_window_display": true
  },
  "vscode": {
   "interpreter": {
    "hash": "7e788f4e25c9ad9070a3ca8c5f1de771a744c9305f7c8b41dbe2f92b7045e164"
   }
  }
 },
 "nbformat": 4,
 "nbformat_minor": 1
}
